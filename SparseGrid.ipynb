{
 "cells": [
  {
   "cell_type": "code",
   "execution_count": null,
   "metadata": {},
   "outputs": [],
   "source": [
    "import numpy as np\n",
    "from itertools import product\n",
    "from matplotlib import pyplot as plt\n",
    "from mpl_toolkits.mplot3d import Axes3D\n",
    "\n",
    "%matplotlib inline"
   ]
  },
  {
   "cell_type": "code",
   "execution_count": null,
   "metadata": {},
   "outputs": [],
   "source": [
    "### Select domain\n",
    "domain_start = 0\n",
    "domain_end = 1\n",
    "domain = np.linspace(domain_start, domain_end, 500)"
   ]
  },
  {
   "cell_type": "markdown",
   "metadata": {},
   "source": [
    "# Sparse Grid Interpolation Toolbox Functions"
   ]
  },
  {
   "cell_type": "code",
   "execution_count": null,
   "metadata": {},
   "outputs": [],
   "source": [
    "###################################################################\n",
    "# Basis and Coefficient Routines\n",
    "###################################################################\n",
    "def build_hat(level, node, domain):\n",
    "    mesh_delta = 1./(2**(level))\n",
    "    hat_function = np.zeros(len(domain))\n",
    "    hat_function = 1. - np.abs(domain/mesh_delta - node)\n",
    "    hat_function = np.clip(hat_function,0,None)  \n",
    "    return hat_function\n",
    "\n",
    "def find_coeff_1D(level, node, func):\n",
    "    mesh_delta = 1/(2**(level))\n",
    "    point1 = func(node*mesh_delta)\n",
    "    point2 = func((node-1)*mesh_delta)\n",
    "    point3 = func((node+1)*mesh_delta)\n",
    "    \n",
    "    return point1 - (point2 + point3)/2.0\n",
    "\n",
    "def find_coe_2D(level1, level2, node1, node2, func):\n",
    "    mesh_size1 = 1/(2**(level1))\n",
    "    mesh_size2 = 1/(2**(level2))\n",
    "    \n",
    "    point = np.zeros(9)\n",
    "    point[0] = func((node1)*mesh_size1,(node2)*mesh_size2)\n",
    "    point[1] = func((node1-1)*mesh_size1,(node2)*mesh_size2) \n",
    "    point[2] = func((node1+1)*mesh_size1,(node2)*mesh_size2) \n",
    "    point[3] = func((node1)*mesh_size1,(node2-1)*mesh_size2) \n",
    "    point[4] = func((node1-1)*mesh_size1,(node2-1)*mesh_size2) \n",
    "    point[5] = func((node1+1)*mesh_size1,(node2-1)*mesh_size2) \n",
    "    point[6] = func((node1)*mesh_size1,(node2+1)*mesh_size2) \n",
    "    point[7] = func((node1-1)*mesh_size1,(node2+1)*mesh_size2) \n",
    "    point[8] = func((node1+1)*mesh_size1,(node2+1)*mesh_size2)\n",
    "    \n",
    "    coe = point[0]  \n",
    "    coe = coe - (point[1]+point[2]+point[3]+point[6])/2\n",
    "    coe = coe + (point[5]+point[4]+point[7]+point[8])/4\n",
    "    \n",
    "    return coe"
   ]
  },
  {
   "cell_type": "code",
   "execution_count": 163,
   "metadata": {},
   "outputs": [],
   "source": [
    "###################################################################\n",
    "# 1- and 2-Dimensional Interpolation Routines\n",
    "###################################################################\n",
    "def interpolation_1D(max_level, domain, func, plot_basis_funcs=False):  \n",
    "    level = np.arange(1,max_level+1,1)\n",
    "    func_approx = [np.zeros(len(domain))]*(max_level+1)\n",
    "    \n",
    "    for lev in level:\n",
    "        nodes = np.arange(1, 2**(lev), 2)\n",
    "        for node in nodes:\n",
    "            hat_hold = build_hat(lev,node,domain)\n",
    "            coe_hold = find_coeff_1D(lev,node,func)\n",
    "                \n",
    "            func_approx[lev] = func_approx[lev] + coe_hold*hat_hold\n",
    "            \n",
    "    return func_approx\n",
    "\n",
    "def add_level_1D(curr_approx,domain,func):\n",
    "    curr_level = len(curr_approx)\n",
    "    #print(curr_level)\n",
    "    \n",
    "    curr_approx.append( np.zeros(len(domain)) )\n",
    "    \n",
    "    for lev in [curr_level]:\n",
    "        nodes = np.arange(1, 2**(lev), 2)\n",
    "        for node in nodes:\n",
    "            hat_hold = build_hat(lev,node,domain)\n",
    "            coe_hold = find_coeff_1D(lev,node,func)\n",
    "            \n",
    "            curr_approx[lev] = curr_approx[lev] + coe_hold*hat_hold\n",
    "            \n",
    "    return curr_approx\n",
    "\n",
    "def interpolation_2D(max_level, domain, func, sparse = True):    \n",
    "    level_single = np.arange(1,max_level+1,1)\n",
    "    func_approx = [np.zeros((len(domain),len(domain)))]*(max_level+1)\n",
    "    levels = list(product(level_single,level_single))\n",
    "    if sparse:\n",
    "        levels = [lev for lev in levels if np.sum(lev)<=max_level+1]\n",
    "    ncoeffs = 0\n",
    "                \n",
    "    for level in levels:\n",
    "        ilev = np.max(level)\n",
    "        nodes1 = np.arange(1,2**(level[0]),2)\n",
    "        nodes2 = np.arange(1,2**(level[1]),2)\n",
    "        nodes = list(product(nodes1,nodes2))\n",
    "        for node in nodes:           \n",
    "            hat_hold = np.outer(build_hat(level[0],node[0],domain),build_hat(level[1],node[1],domain))\n",
    "            coe_hold = find_coe_2D(level[0],level[1],node[0],node[1],func)\n",
    "            func_approx[ilev] = func_approx[ilev] + coe_hold*hat_hold\n",
    "            ncoeffs = ncoeffs + 1\n",
    "    print (ncoeffs)\n",
    "    \n",
    "    return func_approx\n",
    "\n",
    "def add_level_2D(curr_approx, domain, func, sparse=True):\n",
    "    curr_lev = len(curr_approx)\n",
    "    \n",
    "    level_single = np.arange(1,curr_lev+1,1)\n",
    "    levels = list(product(level_single,level_single))\n",
    "    if sparse:\n",
    "        levels = [lev for lev in levels if np.sum(lev)==curr_lev+1]\n",
    "    else:\n",
    "        levels = [lev for lev in levels if np.max(lev)==curr_lev]\n",
    "                \n",
    "    curr_approx.append(np.zeros((len(domain),len(domain))))\n",
    "\n",
    "    for level in levels:\n",
    "        nodes1 = np.arange(1,2**(level[0]),2)\n",
    "        nodes2 = np.arange(1,2**(level[1]),2)\n",
    "        nodes = list(product(nodes1,nodes2))\n",
    "        for node in nodes:\n",
    "            hat_hold = np.outer(build_hat(level[0],node[0],domain),build_hat(level[1],node[1],domain))\n",
    "            coe_hold = find_coe_2D(level[0],level[1],node[0],node[1],func)\n",
    "            curr_approx[-1] = curr_approx[-1] + coe_hold*hat_hold\n",
    "            \n",
    "    return curr_approx"
   ]
  },
  {
   "cell_type": "markdown",
   "metadata": {},
   "source": [
    "# Test Cases"
   ]
  },
  {
   "cell_type": "code",
   "execution_count": 5,
   "metadata": {},
   "outputs": [],
   "source": [
    "###################################################################\n",
    "### Sample test functions for interpolation in 1- and 2-D\n",
    "###################################################################\n",
    "\n",
    "### currently must vanish at end points/boundary\n",
    "\n",
    "# 1-dimensional\n",
    "def sine( x_val ):\n",
    "    return np.sin(np.pi*x_val)\n",
    "\n",
    "def cosine( x_val ):\n",
    "    return 0.5-0.5*np.cos(2*np.pi*x_val)\n",
    "\n",
    "def gaussian( x_val ):\n",
    "    return np.exp(-(x_val-0.5)**2/0.05)\n",
    "\n",
    "def quadratic( x_val ):\n",
    "    return -4.*(x_val-0.5)**2+1.0\n",
    "    #return -(x_val-0.5)**2+0.25\n",
    "\n",
    "def cubic( x_val ):\n",
    "    return x_val*(x_val-0.5)*(x_val-1.0)\n",
    "\n",
    "def quartic( x_val ):\n",
    "    return -20*x_val*(x_val-0.3)*(x_val-0.6)*(x_val-1.)\n",
    "\n",
    "def incfrq( x_val ):\n",
    "    return x_val*(1-x_val)*np.sin(1./(x_val+0.0001))\n",
    "\n",
    "def flat_exp( x_val ):\n",
    "    return np.exp(-(x_val-0.5)**6/0.001)\n",
    "\n",
    "# 2-dimensional\n",
    "def gaussian_2D(x_val, y_val):\n",
    "    return np.exp(-((x_val-0.5)**2+(y_val-0.5)**2)/0.05)\n",
    "    \n",
    "def quadratic_2D(x_val, y_val):\n",
    "    return x_val*(x_val-1)*y_val*(y_val-1)\n",
    "\n",
    "def cubic_2D(x_val, y_val):\n",
    "    return x_val*(x_val-1)*(x_val-0.5)*y_val*(y_val-1)*(y_val-0.5)\n",
    "\n",
    "def sine_2D(x_val, y_val):\n",
    "    return np.sin(x_val*np.pi)*np.sin(y_val*np.pi)\n",
    "\n",
    "def incfrq_2D(x_val, y_val):\n",
    "    return x_val*(x_val-1)*np.sin(1./(x_val+0.0001))*y_val*(y_val-1)*np.sin(1./(y_val+0.0001))\n",
    "\n",
    "def runge_2D(x_val, y_val):\n",
    "    return 10*x_val*(x_val-1)*y_val*(y_val-1)*1./(1.+25*(x_val-0.5)**2)"
   ]
  },
  {
   "cell_type": "code",
   "execution_count": 6,
   "metadata": {},
   "outputs": [],
   "source": [
    "def plot_1D_case(domain,func,nlevs):\n",
    "    fig, ax = plt.subplots(1,1,figsize=(6,6))\n",
    "\n",
    "    yinterp = interpolation_1D(nlevs,domain,func,plot_basis_funcs=True)\n",
    "\n",
    "    ax.plot(domain,sum(yinterp),label='Interpolation')\n",
    "    ax.plot(domain,func(domain),label='Original Function')\n"
   ]
  },
  {
   "cell_type": "code",
   "execution_count": null,
   "metadata": {},
   "outputs": [],
   "source": [
    "nlevs = 2\n",
    "plot_1D_case(domain,quadratic,nlevs)\n",
    "plot_1D_case(domain,cubic,nlevs)\n",
    "plot_1D_case(domain,quartic,nlevs)\n",
    "plot_1D_case(domain,sine,nlevs)\n",
    "plot_1D_case(domain,cosine,nlevs)\n",
    "plot_1D_case(domain,gaussian,nlevs)\n",
    "plot_1D_case(domain,incfrq,nlevs)\n",
    "plot_1D_case(domain,flat_exp,nlevs)"
   ]
  },
  {
   "cell_type": "code",
   "execution_count": null,
   "metadata": {},
   "outputs": [],
   "source": [
    "func_names = [\"quadratic\",\"cubic\",\"sine\",\"gaussian\",\"incfrq\"]\n",
    "\n",
    "orig_func_1D = {}\n",
    "for name in func_names:\n",
    "    orig_func_1D[name] = globals()[name](domain)"
   ]
  },
  {
   "cell_type": "code",
   "execution_count": 96,
   "metadata": {},
   "outputs": [
    {
     "name": "stdout",
     "output_type": "stream",
     "text": [
      "quadratic\n",
      "cubic\n",
      "sine\n",
      "gaussian\n",
      "incfrq\n",
      "runge\n"
     ]
    }
   ],
   "source": [
    "## create dictionary of test function and dense and sparse interpolations\n",
    "func_names = [\"quadratic\",\"cubic\",\"sine\",\"gaussian\",\"incfrq\",\"runge\"]\n",
    "\n",
    "X,Y = np.meshgrid(domain,domain)\n",
    "nlevs = 5\n",
    "\n",
    "orig_func = {}\n",
    "zdense = {}\n",
    "zsparse = {}\n",
    "for name in func_names:\n",
    "    print (name)\n",
    "    func = globals()[\"%s_2D\"%name]\n",
    "    \n",
    "    orig_func[name] = func(X,Y)\n",
    "    zdense[name] = interpolation_2D(nlevs,domain,func,sparse=False)\n",
    "    zsparse[name] = interpolation_2D(nlevs,domain,func,sparse=True)"
   ]
  },
  {
   "cell_type": "code",
   "execution_count": 98,
   "metadata": {},
   "outputs": [
    {
     "name": "stdout",
     "output_type": "stream",
     "text": [
      "quadratic dense to 7 levels\n",
      "quadratic sparse to 7 levels\n",
      "cubic dense to 7 levels\n",
      "cubic sparse to 7 levels\n",
      "sine dense to 7 levels\n",
      "sine sparse to 7 levels\n",
      "gaussian dense to 7 levels\n",
      "gaussian sparse to 7 levels\n",
      "incfrq dense to 7 levels\n",
      "incfrq sparse to 7 levels\n",
      "runge dense to 7 levels\n",
      "runge sparse to 7 levels\n"
     ]
    }
   ],
   "source": [
    "## extend interpolation of each test function in func_names by a level\n",
    "for name in func_names:\n",
    "    func = globals()[\"%s_2D\"%name]\n",
    "    print(\"%s dense to %d levels\"%(name,len(zdense[name])))\n",
    "    zdense[name] = add_level_2D(zdense[name],domain,func,sparse=False);\n",
    "    print(\"%s sparse to %d levels\"%(name,len(zsparse[name])))\n",
    "    zsparse[name] = add_level_2D(zsparse[name],domain,func,sparse=True);"
   ]
  },
  {
   "cell_type": "code",
   "execution_count": 103,
   "metadata": {},
   "outputs": [
    {
     "name": "stdout",
     "output_type": "stream",
     "text": [
      "quadratic sparse to 11 levels\n",
      "cubic sparse to 11 levels\n",
      "sine sparse to 11 levels\n"
     ]
    }
   ],
   "source": [
    "for name in func_names[:3]:\n",
    "    func = globals()[\"%s_2D\"%name]\n",
    "    print(\"%s sparse to %d levels\"%(name,len(zsparse[name])))\n",
    "    zsparse[name] = add_level_2D(zsparse[name],domain,func,sparse=True);"
   ]
  },
  {
   "cell_type": "code",
   "execution_count": 110,
   "metadata": {},
   "outputs": [
    {
     "name": "stdout",
     "output_type": "stream",
     "text": [
      "quadratic dense to 8 levels\n",
      "cubic dense to 8 levels\n",
      "sine dense to 8 levels\n"
     ]
    }
   ],
   "source": [
    "for name in func_names[:3]:\n",
    "    func = globals()[\"%s_2D\"%name]\n",
    "    print(\"%s dense to %d levels\"%(name,len(zdense[name])))\n",
    "    zdense[name] = add_level_2D(zdense[name],domain,func,sparse=False);"
   ]
  },
  {
   "cell_type": "code",
   "execution_count": 152,
   "metadata": {},
   "outputs": [
    {
     "data": {
      "image/png": "[encoded data removed]",
      "text/plain": [
       "<Figure size 576x432 with 1 Axes>"
      ]
     },
     "metadata": {
      "needs_background": "light"
     },
     "output_type": "display_data"
    }
   ],
   "source": [
    "from matplotlib.ticker import StrMethodFormatter\n",
    "\n",
    "## set up semilog plot of error vs # levels\n",
    "plt.figure(figsize=(8,6))\n",
    "fmt = StrMethodFormatter(\"{x:g}\")\n",
    "plt.gca().xaxis.set_major_formatter(fmt)\n",
    "plt.gca().xaxis.set_minor_formatter(fmt)\n",
    "plt.xlabel(r'Number of levels ($n$)',fontsize=12)\n",
    "plt.ylabel(r'Error $||\\cdot||_2$',fontsize=12)\n",
    "\n",
    "## theoretical convergence\n",
    "ns = np.linspace(1,11,50)\n",
    "Ns = 2**ns\n",
    "plt.semilogy(ns,Ns**-2*1e-1,'k',lw=1)\n",
    "plt.semilogy(ns,Ns**-2*ns*1e-1,'k',lw=1)\n",
    "\n",
    "area = (len(domain))**2\n",
    "\n",
    "## dense error plots\n",
    "for name in func_names[:-3]:  \n",
    "    Lerr = []\n",
    "    for i in range(1,len(zdense[name])):\n",
    "        err = sum(zdense[name][:i])-orig_func[name]\n",
    "        Lerr.append(np.linalg.norm( err )/area)\n",
    "    plt.semilogy(np.arange(1,len(Lerr)+1,1),Lerr,label=\"%s dense\"%name,alpha=0.8)\n",
    "    \n",
    "    \n",
    "## sparse error plots\n",
    "plt.gca().set_prop_cycle(None)\n",
    "for name in func_names[:-3]:\n",
    "    Lerr = []\n",
    "    for i in range(1,len(zsparse[name])):\n",
    "        err = sum(zsparse[name][:i])-orig_func[name]\n",
    "        Lerr.append(np.linalg.norm( err )/area)\n",
    "    plt.semilogy(np.arange(1,len(Lerr)+1,1),Lerr,label=\"%s sparse\"%name,alpha=0.8,ls='--')\n",
    "\n",
    "## finish formatting\n",
    "plt.legend() \n",
    "plt.gca().xaxis.set_major_formatter(fmt)\n",
    "plt.gca().xaxis.set_minor_formatter(fmt)"
   ]
  },
  {
   "cell_type": "code",
   "execution_count": null,
   "metadata": {
    "scrolled": true
   },
   "outputs": [],
   "source": [
    "### plot test functions\n",
    "X,Y = np.meshgrid(domain,domain)\n",
    "\n",
    "for name in func_names:\n",
    "    fig = plt.figure()\n",
    "    ax = fig.add_subplot(111, projection='3d')\n",
    "    #ax.plot_surface(X,Y,orig_func[name],alpha=0.5)\n",
    "    ax.plot_surface(X,Y,zdense[name][7],rstride=1, cstride=1,alpha=0.5)\n",
    "    "
   ]
  },
  {
   "cell_type": "code",
   "execution_count": null,
   "metadata": {},
   "outputs": [],
   "source": [
    "## qualitative dense error\n",
    "fig, ax = plt.subplots(len(func_names),7,figsize=(35,30),sharey=True,sharex=True)\n",
    "vmax = []\n",
    "for f in range(len(func_names)):\n",
    "    name = func_names[f]\n",
    "    print (name)\n",
    "    for i in range(1,8):\n",
    "        err = np.abs(sum(zdense[name][:i])-orig_func[name])\n",
    "        ax[f][i-1].contourf(X,Y,err,cmap=plt.cm.Reds)\n",
    "        "
   ]
  },
  {
   "cell_type": "code",
   "execution_count": null,
   "metadata": {},
   "outputs": [],
   "source": [
    "## qualatative sparse error\n",
    "fig, ax = plt.subplots(len(func_names),5,figsize=(25,30),sharey=True,sharex=True)\n",
    "for f in range(len(func_names)):\n",
    "    name = func_names[f]\n",
    "    print (name)\n",
    "    for i in range(1,6):\n",
    "        err = np.abs(sum(zsparse[name][:i])-orig_func[name])\n",
    "        ax[f][i-1].contourf(X,Y,err,cmap=plt.cm.Blues)"
   ]
  },
  {
   "cell_type": "code",
   "execution_count": null,
   "metadata": {},
   "outputs": [],
   "source": []
  }
 ],
 "metadata": {
  "kernelspec": {
   "display_name": "Python 3",
   "language": "python",
   "name": "python3"
  },
  "language_info": {
   "codemirror_mode": {
    "name": "ipython",
    "version": 3
   },
   "file_extension": ".py",
   "mimetype": "text/x-python",
   "name": "python",
   "nbconvert_exporter": "python",
   "pygments_lexer": "ipython3",
   "version": "3.7.4"
  }
 },
 "nbformat": 4,
 "nbformat_minor": 2
}
